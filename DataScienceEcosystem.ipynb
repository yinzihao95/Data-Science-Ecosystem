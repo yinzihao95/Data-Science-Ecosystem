{
  "metadata": {
    "language_info": {
      "codemirror_mode": {
        "name": "python",
        "version": 3
      },
      "file_extension": ".py",
      "mimetype": "text/x-python",
      "name": "python",
      "nbconvert_exporter": "python",
      "pygments_lexer": "ipython3",
      "version": "3.8"
    },
    "kernelspec": {
      "name": "python",
      "display_name": "Python (Pyodide)",
      "language": "python"
    }
  },
  "nbformat_minor": 4,
  "nbformat": 4,
  "cells": [
    {
      "cell_type": "markdown",
      "source": "# Data Science Tools and Ecosystem ",
      "metadata": {}
    },
    {
      "cell_type": "markdown",
      "source": "#### In this notebook, Data Science Tools and Ecosystem are summarized.",
      "metadata": {}
    },
    {
      "cell_type": "markdown",
      "source": "## Objectives\n\n1. Practise use of Markdown \n2. Practise use of comments \n3. Creation of tables \n4. practise use of arithmetic expressions ",
      "metadata": {}
    },
    {
      "cell_type": "markdown",
      "source": "### Some of the popular languages the Data Scientist uses are:\n\n+ Python\n+ R\n+ Java scritpt\n+ Jave\n+ C++\n+ C\n+ Julia \n+ Apache MLib\n",
      "metadata": {
        "tags": []
      }
    },
    {
      "cell_type": "markdown",
      "source": "### Some commonly used libraries by Data Scientist are:\n\n* numpy \n* pandas \n* matplotlib ",
      "metadata": {}
    },
    {
      "cell_type": "markdown",
      "source": "|Data Science Tools|\n|------------------|\n|Apache MLlib|\n|API|\n|CLI|\n|OSI|",
      "metadata": {}
    },
    {
      "cell_type": "markdown",
      "source": "### Below are few examples evaluating arithmetic expression in python \n\n- a + b\n- a - b\n- a * b\n- a ^ b",
      "metadata": {}
    },
    {
      "cell_type": "code",
      "source": "# This is a simple arithmetic to multiply\n\n(3*4)+5\n",
      "metadata": {
        "trusted": true
      },
      "execution_count": 2,
      "outputs": [
        {
          "execution_count": 2,
          "output_type": "execute_result",
          "data": {
            "text/plain": "17"
          },
          "metadata": {}
        }
      ]
    },
    {
      "cell_type": "code",
      "source": "# This will convert 200 minutes to hours by dividing by 60\n\n200 * 1/60",
      "metadata": {
        "trusted": true
      },
      "execution_count": 4,
      "outputs": [
        {
          "execution_count": 4,
          "output_type": "execute_result",
          "data": {
            "text/plain": "3.3333333333333335"
          },
          "metadata": {}
        }
      ]
    },
    {
      "cell_type": "markdown",
      "source": "## Author \n\nAhmad Idris ",
      "metadata": {}
    },
    {
      "cell_type": "code",
      "source": "",
      "metadata": {},
      "execution_count": null,
      "outputs": []
    }
  ]
}